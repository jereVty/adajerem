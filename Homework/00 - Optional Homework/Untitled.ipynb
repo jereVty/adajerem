{
 "cells": [
  {
   "cell_type": "markdown",
   "metadata": {},
   "source": [
    "Import libraries"
   ]
  },
  {
   "cell_type": "code",
   "execution_count": 1,
   "metadata": {},
   "outputs": [],
   "source": [
    "import numpy as np\n",
    "import matplotlib.pyplot as plt\n",
    "import pandas as pd"
   ]
  },
  {
   "cell_type": "markdown",
   "metadata": {},
   "source": [
    "Get dataset"
   ]
  },
  {
   "cell_type": "code",
   "execution_count": 2,
   "metadata": {},
   "outputs": [
    {
     "data": {
      "text/html": [
       "<div>\n",
       "<style scoped>\n",
       "    .dataframe tbody tr th:only-of-type {\n",
       "        vertical-align: middle;\n",
       "    }\n",
       "\n",
       "    .dataframe tbody tr th {\n",
       "        vertical-align: top;\n",
       "    }\n",
       "\n",
       "    .dataframe thead th {\n",
       "        text-align: right;\n",
       "    }\n",
       "</style>\n",
       "<table border=\"1\" class=\"dataframe\">\n",
       "  <thead>\n",
       "    <tr style=\"text-align: right;\">\n",
       "      <th></th>\n",
       "      <th>Unnamed: 0</th>\n",
       "      <th>Intent</th>\n",
       "      <th>Gender</th>\n",
       "      <th>Age</th>\n",
       "      <th>Race</th>\n",
       "      <th>Deaths</th>\n",
       "      <th>Population</th>\n",
       "      <th>Rate</th>\n",
       "    </tr>\n",
       "  </thead>\n",
       "  <tbody>\n",
       "    <tr>\n",
       "      <th>0</th>\n",
       "      <td>1</td>\n",
       "      <td>None selected</td>\n",
       "      <td>None selected</td>\n",
       "      <td>None selected</td>\n",
       "      <td>None selected</td>\n",
       "      <td>33599</td>\n",
       "      <td>316299978</td>\n",
       "      <td>10.6</td>\n",
       "    </tr>\n",
       "    <tr>\n",
       "      <th>1</th>\n",
       "      <td>2</td>\n",
       "      <td>None selected</td>\n",
       "      <td>None selected</td>\n",
       "      <td>None selected</td>\n",
       "      <td>White</td>\n",
       "      <td>22079</td>\n",
       "      <td>197369634</td>\n",
       "      <td>11.2</td>\n",
       "    </tr>\n",
       "    <tr>\n",
       "      <th>2</th>\n",
       "      <td>3</td>\n",
       "      <td>None selected</td>\n",
       "      <td>None selected</td>\n",
       "      <td>None selected</td>\n",
       "      <td>Black</td>\n",
       "      <td>7765</td>\n",
       "      <td>38896382</td>\n",
       "      <td>20.0</td>\n",
       "    </tr>\n",
       "    <tr>\n",
       "      <th>3</th>\n",
       "      <td>4</td>\n",
       "      <td>None selected</td>\n",
       "      <td>None selected</td>\n",
       "      <td>None selected</td>\n",
       "      <td>Hispanic</td>\n",
       "      <td>3007</td>\n",
       "      <td>54049078</td>\n",
       "      <td>5.6</td>\n",
       "    </tr>\n",
       "    <tr>\n",
       "      <th>4</th>\n",
       "      <td>5</td>\n",
       "      <td>None selected</td>\n",
       "      <td>None selected</td>\n",
       "      <td>None selected</td>\n",
       "      <td>Asian/Pacific Islander</td>\n",
       "      <td>442</td>\n",
       "      <td>16315561</td>\n",
       "      <td>2.7</td>\n",
       "    </tr>\n",
       "  </tbody>\n",
       "</table>\n",
       "</div>"
      ],
      "text/plain": [
       "   Unnamed: 0         Intent         Gender            Age  \\\n",
       "0           1  None selected  None selected  None selected   \n",
       "1           2  None selected  None selected  None selected   \n",
       "2           3  None selected  None selected  None selected   \n",
       "3           4  None selected  None selected  None selected   \n",
       "4           5  None selected  None selected  None selected   \n",
       "\n",
       "                     Race  Deaths  Population  Rate  \n",
       "0           None selected   33599   316299978  10.6  \n",
       "1                   White   22079   197369634  11.2  \n",
       "2                   Black    7765    38896382  20.0  \n",
       "3                Hispanic    3007    54049078   5.6  \n",
       "4  Asian/Pacific Islander     442    16315561   2.7  "
      ]
     },
     "execution_count": 2,
     "metadata": {},
     "output_type": "execute_result"
    }
   ],
   "source": [
    "Dataset = pd.read_csv('interactive_data.csv')\n",
    "Dataset.head()"
   ]
  },
  {
   "cell_type": "markdown",
   "metadata": {},
   "source": [
    "Nearly *two-thirds* of gun deaths are *suicides*"
   ]
  },
  {
   "cell_type": "code",
   "execution_count": 3,
   "metadata": {},
   "outputs": [
    {
     "data": {
      "text/plain": [
       "21058"
      ]
     },
     "execution_count": 3,
     "metadata": {},
     "output_type": "execute_result"
    }
   ],
   "source": [
    "Suicide = Dataset[Dataset[\"Intent\"] == \"Suicide\"]\n",
    "Total_suicide = np.array(Suicide[\"Deaths\"])[0]\n",
    "Total_suicide"
   ]
  },
  {
   "cell_type": "code",
   "execution_count": 4,
   "metadata": {},
   "outputs": [
    {
     "data": {
      "text/plain": [
       "21058"
      ]
     },
     "execution_count": 4,
     "metadata": {},
     "output_type": "execute_result"
    }
   ],
   "source": [
    "Suicide2 = Dataset[Dataset[\"Intent\"] == \"Suicide\"]\n",
    "Total_suicide2 = Suicide2[\"Deaths\"].iloc[0]\n",
    "Total_suicide2"
   ]
  },
  {
   "cell_type": "code",
   "execution_count": 5,
   "metadata": {},
   "outputs": [
    {
     "data": {
      "text/plain": [
       "33599"
      ]
     },
     "execution_count": 5,
     "metadata": {},
     "output_type": "execute_result"
    }
   ],
   "source": [
    "Total_deaths =Dataset[\"Deaths\"].iloc[0]\n",
    "Total_deaths"
   ]
  },
  {
   "cell_type": "code",
   "execution_count": 7,
   "metadata": {},
   "outputs": [
    {
     "name": "stdout",
     "output_type": "stream",
     "text": [
      "0.6267448435965356\n"
     ]
    }
   ],
   "source": [
    "print(Total_suicide/Total_deaths)"
   ]
  },
  {
   "cell_type": "markdown",
   "metadata": {},
   "source": [
    "## More than *85 percent* of suicide victims are *male*."
   ]
  },
  {
   "cell_type": "code",
   "execution_count": 8,
   "metadata": {},
   "outputs": [
    {
     "data": {
      "text/plain": [
       "18162"
      ]
     },
     "execution_count": 8,
     "metadata": {},
     "output_type": "execute_result"
    }
   ],
   "source": [
    "Suicide_male = Suicide[Suicide[\"Gender\"] == \"Male\"]\n",
    "Total_suicide_male = Suicide_male[\"Deaths\"].iloc[0]"
   ]
  },
  {
   "cell_type": "code",
   "execution_count": 9,
   "metadata": {},
   "outputs": [
    {
     "name": "stdout",
     "output_type": "stream",
     "text": [
      "0.8624750688574414\n"
     ]
    }
   ],
   "source": [
    "print(Total_suicide_male/Total_suicide)"
   ]
  },
  {
   "cell_type": "markdown",
   "metadata": {},
   "source": [
    "## Around *a third* of all gun deaths are *homicides*."
   ]
  },
  {
   "cell_type": "code",
   "execution_count": 12,
   "metadata": {},
   "outputs": [],
   "source": [
    "Homicides = Dataset[Dataset[\"Intent\"]==\"Homicide\"]"
   ]
  },
  {
   "cell_type": "code",
   "execution_count": 14,
   "metadata": {},
   "outputs": [],
   "source": [
    "Total_Homicides = Homicides[\"Deaths\"].iloc[0]"
   ]
  },
  {
   "cell_type": "code",
   "execution_count": 30,
   "metadata": {},
   "outputs": [
    {
     "name": "stdout",
     "output_type": "stream",
     "text": [
      "0.3489984820976815\n"
     ]
    }
   ],
   "source": [
    "print(Total_Homicides/Total_deaths)"
   ]
  },
  {
   "cell_type": "markdown",
   "metadata": {},
   "source": [
    "## Around *two-thirds* of homicide victims who are *males* in the *age-group of 15--34* are *black*."
   ]
  },
  {
   "cell_type": "code",
   "execution_count": 25,
   "metadata": {},
   "outputs": [
    {
     "data": {
      "text/html": [
       "<div>\n",
       "<style scoped>\n",
       "    .dataframe tbody tr th:only-of-type {\n",
       "        vertical-align: middle;\n",
       "    }\n",
       "\n",
       "    .dataframe tbody tr th {\n",
       "        vertical-align: top;\n",
       "    }\n",
       "\n",
       "    .dataframe thead th {\n",
       "        text-align: right;\n",
       "    }\n",
       "</style>\n",
       "<table border=\"1\" class=\"dataframe\">\n",
       "  <thead>\n",
       "    <tr style=\"text-align: right;\">\n",
       "      <th></th>\n",
       "      <th>Unnamed: 0</th>\n",
       "      <th>Intent</th>\n",
       "      <th>Gender</th>\n",
       "      <th>Age</th>\n",
       "      <th>Race</th>\n",
       "      <th>Deaths</th>\n",
       "      <th>Population</th>\n",
       "      <th>Rate</th>\n",
       "    </tr>\n",
       "  </thead>\n",
       "  <tbody>\n",
       "    <tr>\n",
       "      <th>84</th>\n",
       "      <td>85</td>\n",
       "      <td>None selected</td>\n",
       "      <td>Male</td>\n",
       "      <td>15 - 34</td>\n",
       "      <td>None selected</td>\n",
       "      <td>11202</td>\n",
       "      <td>44017869</td>\n",
       "      <td>25.4</td>\n",
       "    </tr>\n",
       "    <tr>\n",
       "      <th>85</th>\n",
       "      <td>86</td>\n",
       "      <td>None selected</td>\n",
       "      <td>Male</td>\n",
       "      <td>15 - 34</td>\n",
       "      <td>White</td>\n",
       "      <td>4409</td>\n",
       "      <td>24831032</td>\n",
       "      <td>17.8</td>\n",
       "    </tr>\n",
       "    <tr>\n",
       "      <th>86</th>\n",
       "      <td>87</td>\n",
       "      <td>None selected</td>\n",
       "      <td>Male</td>\n",
       "      <td>15 - 34</td>\n",
       "      <td>Black</td>\n",
       "      <td>4855</td>\n",
       "      <td>5869943</td>\n",
       "      <td>82.7</td>\n",
       "    </tr>\n",
       "    <tr>\n",
       "      <th>87</th>\n",
       "      <td>88</td>\n",
       "      <td>None selected</td>\n",
       "      <td>Male</td>\n",
       "      <td>15 - 34</td>\n",
       "      <td>Hispanic</td>\n",
       "      <td>1631</td>\n",
       "      <td>9379683</td>\n",
       "      <td>17.4</td>\n",
       "    </tr>\n",
       "    <tr>\n",
       "      <th>88</th>\n",
       "      <td>89</td>\n",
       "      <td>None selected</td>\n",
       "      <td>Male</td>\n",
       "      <td>15 - 34</td>\n",
       "      <td>Asian/Pacific Islander</td>\n",
       "      <td>170</td>\n",
       "      <td>2415040</td>\n",
       "      <td>7.0</td>\n",
       "    </tr>\n",
       "  </tbody>\n",
       "</table>\n",
       "</div>"
      ],
      "text/plain": [
       "    Unnamed: 0         Intent Gender      Age                    Race  Deaths  \\\n",
       "84          85  None selected   Male  15 - 34           None selected   11202   \n",
       "85          86  None selected   Male  15 - 34                   White    4409   \n",
       "86          87  None selected   Male  15 - 34                   Black    4855   \n",
       "87          88  None selected   Male  15 - 34                Hispanic    1631   \n",
       "88          89  None selected   Male  15 - 34  Asian/Pacific Islander     170   \n",
       "\n",
       "    Population  Rate  \n",
       "84    44017869  25.4  \n",
       "85    24831032  17.8  \n",
       "86     5869943  82.7  \n",
       "87     9379683  17.4  \n",
       "88     2415040   7.0  "
      ]
     },
     "execution_count": 25,
     "metadata": {},
     "output_type": "execute_result"
    }
   ],
   "source": [
    "jung_men = Dataset[(Dataset[\"Gender\"] == \"Male\") & (Dataset[\"Age\"] == \"15 - 34\")]\n",
    "Total_jung_men_deaths = jung_men[\"Deaths\"].iloc[0]\n",
    "jung_men.head()"
   ]
  },
  {
   "cell_type": "code",
   "execution_count": 26,
   "metadata": {},
   "outputs": [
    {
     "name": "stdout",
     "output_type": "stream",
     "text": [
      "11202\n"
     ]
    }
   ],
   "source": [
    "print(Total_jung_men_deaths)"
   ]
  },
  {
   "cell_type": "code",
   "execution_count": 32,
   "metadata": {},
   "outputs": [
    {
     "name": "stdout",
     "output_type": "stream",
     "text": [
      "0.43340474915193716\n"
     ]
    }
   ],
   "source": [
    "black_jung_men = jung_men[jung_men[\"Race\"]==\"Black\"]\n",
    "Total_black_jung_men_deaths = black_jung_men[\"Deaths\"].iloc[0]\n",
    "black_jung_men.head()\n",
    "print(Total_black_jung_men_deaths/Total_jung_men_deaths)"
   ]
  },
  {
   "cell_type": "markdown",
   "metadata": {},
   "source": [
    "## *Women* constitue only *15 percent* of the total *homicide* victims."
   ]
  },
  {
   "cell_type": "code",
   "execution_count": 33,
   "metadata": {},
   "outputs": [
    {
     "name": "stdout",
     "output_type": "stream",
     "text": [
      "0.15273750639604297\n"
     ]
    }
   ],
   "source": [
    "Women_Homicides = Homicides[Homicides[\"Gender\"] == \"Female\"]\n",
    "Total_Women_Homicides = Women_Homicides[\"Deaths\"].iloc[0]\n",
    "print(Total_Women_Homicides/Total_Homicides)"
   ]
  },
  {
   "cell_type": "code",
   "execution_count": null,
   "metadata": {},
   "outputs": [],
   "source": []
  }
 ],
 "metadata": {
  "kernelspec": {
   "display_name": "Python 3",
   "language": "python",
   "name": "python3"
  },
  "language_info": {
   "codemirror_mode": {
    "name": "ipython",
    "version": 3
   },
   "file_extension": ".py",
   "mimetype": "text/x-python",
   "name": "python",
   "nbconvert_exporter": "python",
   "pygments_lexer": "ipython3",
   "version": "3.8.3"
  }
 },
 "nbformat": 4,
 "nbformat_minor": 4
}
